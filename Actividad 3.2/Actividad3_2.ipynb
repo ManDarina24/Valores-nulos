{
 "cells": [
  {
   "cell_type": "code",
   "execution_count": 23,
   "metadata": {},
   "outputs": [],
   "source": [
    "import pandas as pd \n",
    "import numpy as np\n",
    "import matplotlib.pyplot as plt\n"
   ]
  },
  {
   "cell_type": "code",
   "execution_count": 24,
   "metadata": {},
   "outputs": [
    {
     "data": {
      "text/html": [
       "<div>\n",
       "<style scoped>\n",
       "    .dataframe tbody tr th:only-of-type {\n",
       "        vertical-align: middle;\n",
       "    }\n",
       "\n",
       "    .dataframe tbody tr th {\n",
       "        vertical-align: top;\n",
       "    }\n",
       "\n",
       "    .dataframe thead th {\n",
       "        text-align: right;\n",
       "    }\n",
       "</style>\n",
       "<table border=\"1\" class=\"dataframe\">\n",
       "  <thead>\n",
       "    <tr style=\"text-align: right;\">\n",
       "      <th></th>\n",
       "      <th>id</th>\n",
       "      <th>scrape_id</th>\n",
       "      <th>last_scraped</th>\n",
       "      <th>name</th>\n",
       "      <th>host_id</th>\n",
       "      <th>host_name</th>\n",
       "      <th>host_since</th>\n",
       "      <th>host_response_time</th>\n",
       "      <th>host_response_rate</th>\n",
       "      <th>host_acceptance_rate</th>\n",
       "      <th>...</th>\n",
       "      <th>review_scores_checkin</th>\n",
       "      <th>review_scores_communication</th>\n",
       "      <th>review_scores_location</th>\n",
       "      <th>review_scores_value</th>\n",
       "      <th>license</th>\n",
       "      <th>instant_bookable</th>\n",
       "      <th>calculated_host_listings_count</th>\n",
       "      <th>calculated_host_listings_count_entire_homes</th>\n",
       "      <th>calculated_host_listings_count_private_rooms</th>\n",
       "      <th>calculated_host_listings_count_shared_rooms</th>\n",
       "    </tr>\n",
       "  </thead>\n",
       "  <tbody>\n",
       "    <tr>\n",
       "      <th>0</th>\n",
       "      <td>6400</td>\n",
       "      <td>20240917031337</td>\n",
       "      <td>2024-09-17</td>\n",
       "      <td>The Studio Milan</td>\n",
       "      <td>13822</td>\n",
       "      <td>Francesca</td>\n",
       "      <td>2009-04-17</td>\n",
       "      <td>NaN</td>\n",
       "      <td>NaN</td>\n",
       "      <td>0%</td>\n",
       "      <td>...</td>\n",
       "      <td>5.00</td>\n",
       "      <td>5.00</td>\n",
       "      <td>4.56</td>\n",
       "      <td>4.67</td>\n",
       "      <td>NaN</td>\n",
       "      <td>f</td>\n",
       "      <td>1</td>\n",
       "      <td>0</td>\n",
       "      <td>1</td>\n",
       "      <td>0</td>\n",
       "    </tr>\n",
       "    <tr>\n",
       "      <th>1</th>\n",
       "      <td>23986</td>\n",
       "      <td>20240917031337</td>\n",
       "      <td>2024-09-17</td>\n",
       "      <td>\" Characteristic Milanese flat\"</td>\n",
       "      <td>95941</td>\n",
       "      <td>Jeremy</td>\n",
       "      <td>2010-03-19</td>\n",
       "      <td>within an hour</td>\n",
       "      <td>100%</td>\n",
       "      <td>20%</td>\n",
       "      <td>...</td>\n",
       "      <td>4.59</td>\n",
       "      <td>4.74</td>\n",
       "      <td>4.70</td>\n",
       "      <td>4.48</td>\n",
       "      <td>NaN</td>\n",
       "      <td>f</td>\n",
       "      <td>1</td>\n",
       "      <td>1</td>\n",
       "      <td>0</td>\n",
       "      <td>0</td>\n",
       "    </tr>\n",
       "    <tr>\n",
       "      <th>2</th>\n",
       "      <td>40470</td>\n",
       "      <td>20240917031337</td>\n",
       "      <td>2024-09-17</td>\n",
       "      <td>Giacinto Cosy &amp; clean flat near MM1</td>\n",
       "      <td>174203</td>\n",
       "      <td>Giacinto</td>\n",
       "      <td>2010-07-20</td>\n",
       "      <td>within an hour</td>\n",
       "      <td>100%</td>\n",
       "      <td>38%</td>\n",
       "      <td>...</td>\n",
       "      <td>4.98</td>\n",
       "      <td>4.88</td>\n",
       "      <td>4.44</td>\n",
       "      <td>4.51</td>\n",
       "      <td>NaN</td>\n",
       "      <td>f</td>\n",
       "      <td>2</td>\n",
       "      <td>2</td>\n",
       "      <td>0</td>\n",
       "      <td>0</td>\n",
       "    </tr>\n",
       "    <tr>\n",
       "      <th>3</th>\n",
       "      <td>46536</td>\n",
       "      <td>20240917031337</td>\n",
       "      <td>2024-09-17</td>\n",
       "      <td>Nico &amp; Cinzia's Pink Suite!</td>\n",
       "      <td>138683</td>\n",
       "      <td>Nico&amp;Cinzia</td>\n",
       "      <td>2010-06-05</td>\n",
       "      <td>NaN</td>\n",
       "      <td>NaN</td>\n",
       "      <td>75%</td>\n",
       "      <td>...</td>\n",
       "      <td>4.83</td>\n",
       "      <td>4.92</td>\n",
       "      <td>4.33</td>\n",
       "      <td>4.58</td>\n",
       "      <td>NaN</td>\n",
       "      <td>f</td>\n",
       "      <td>1</td>\n",
       "      <td>1</td>\n",
       "      <td>0</td>\n",
       "      <td>0</td>\n",
       "    </tr>\n",
       "    <tr>\n",
       "      <th>4</th>\n",
       "      <td>59226</td>\n",
       "      <td>20240917031337</td>\n",
       "      <td>2024-09-18</td>\n",
       "      <td>Near Piazza Gae Aulenti silent e reserved flat</td>\n",
       "      <td>244087</td>\n",
       "      <td>Francesca</td>\n",
       "      <td>2010-09-24</td>\n",
       "      <td>NaN</td>\n",
       "      <td>NaN</td>\n",
       "      <td>0%</td>\n",
       "      <td>...</td>\n",
       "      <td>4.89</td>\n",
       "      <td>4.89</td>\n",
       "      <td>4.44</td>\n",
       "      <td>4.44</td>\n",
       "      <td>NaN</td>\n",
       "      <td>f</td>\n",
       "      <td>1</td>\n",
       "      <td>1</td>\n",
       "      <td>0</td>\n",
       "      <td>0</td>\n",
       "    </tr>\n",
       "  </tbody>\n",
       "</table>\n",
       "<p>5 rows × 50 columns</p>\n",
       "</div>"
      ],
      "text/plain": [
       "      id       scrape_id last_scraped  \\\n",
       "0   6400  20240917031337   2024-09-17   \n",
       "1  23986  20240917031337   2024-09-17   \n",
       "2  40470  20240917031337   2024-09-17   \n",
       "3  46536  20240917031337   2024-09-17   \n",
       "4  59226  20240917031337   2024-09-18   \n",
       "\n",
       "                                             name  host_id    host_name  \\\n",
       "0                                The Studio Milan    13822    Francesca   \n",
       "1                 \" Characteristic Milanese flat\"    95941       Jeremy   \n",
       "2             Giacinto Cosy & clean flat near MM1   174203     Giacinto   \n",
       "3                     Nico & Cinzia's Pink Suite!   138683  Nico&Cinzia   \n",
       "4  Near Piazza Gae Aulenti silent e reserved flat   244087    Francesca   \n",
       "\n",
       "   host_since host_response_time host_response_rate host_acceptance_rate  ...  \\\n",
       "0  2009-04-17                NaN                NaN                   0%  ...   \n",
       "1  2010-03-19     within an hour               100%                  20%  ...   \n",
       "2  2010-07-20     within an hour               100%                  38%  ...   \n",
       "3  2010-06-05                NaN                NaN                  75%  ...   \n",
       "4  2010-09-24                NaN                NaN                   0%  ...   \n",
       "\n",
       "  review_scores_checkin  review_scores_communication  review_scores_location  \\\n",
       "0                  5.00                         5.00                    4.56   \n",
       "1                  4.59                         4.74                    4.70   \n",
       "2                  4.98                         4.88                    4.44   \n",
       "3                  4.83                         4.92                    4.33   \n",
       "4                  4.89                         4.89                    4.44   \n",
       "\n",
       "  review_scores_value license  instant_bookable  \\\n",
       "0                4.67     NaN                 f   \n",
       "1                4.48     NaN                 f   \n",
       "2                4.51     NaN                 f   \n",
       "3                4.58     NaN                 f   \n",
       "4                4.44     NaN                 f   \n",
       "\n",
       "   calculated_host_listings_count calculated_host_listings_count_entire_homes  \\\n",
       "0                               1                                           0   \n",
       "1                               1                                           1   \n",
       "2                               2                                           2   \n",
       "3                               1                                           1   \n",
       "4                               1                                           1   \n",
       "\n",
       "  calculated_host_listings_count_private_rooms  \\\n",
       "0                                            1   \n",
       "1                                            0   \n",
       "2                                            0   \n",
       "3                                            0   \n",
       "4                                            0   \n",
       "\n",
       "   calculated_host_listings_count_shared_rooms  \n",
       "0                                            0  \n",
       "1                                            0  \n",
       "2                                            0  \n",
       "3                                            0  \n",
       "4                                            0  \n",
       "\n",
       "[5 rows x 50 columns]"
      ]
     },
     "execution_count": 24,
     "metadata": {},
     "output_type": "execute_result"
    }
   ],
   "source": [
    "#Carga de un archivo .csv sin indice\n",
    "data = pd.read_csv('milan_50_columnas.csv')\n",
    "data.head(5)"
   ]
  },
  {
   "cell_type": "code",
   "execution_count": 25,
   "metadata": {},
   "outputs": [
    {
     "data": {
      "text/plain": [
       "id                                                  0\n",
       "scrape_id                                           0\n",
       "last_scraped                                        0\n",
       "name                                                0\n",
       "host_id                                             0\n",
       "host_name                                           0\n",
       "host_since                                          0\n",
       "host_response_time                               3854\n",
       "host_response_rate                               3854\n",
       "host_acceptance_rate                             1913\n",
       "host_is_superhost                                 831\n",
       "host_listings_count                                 0\n",
       "host_total_listings_count                           0\n",
       "host_identity_verified                              0\n",
       "neighbourhood                                   11377\n",
       "latitude                                            0\n",
       "longitude                                           0\n",
       "property_type                                       0\n",
       "room_type                                           0\n",
       "accommodates                                        0\n",
       "bathrooms                                        1684\n",
       "bedrooms                                          324\n",
       "beds                                             1730\n",
       "amenities                                           0\n",
       "price                                            1677\n",
       "minimum_nights                                      0\n",
       "maximum_nights                                      0\n",
       "minimum_nights_avg_ntm                              0\n",
       "maximum_nights_avg_ntm                              0\n",
       "calendar_last_scraped                               0\n",
       "has_availability                                  190\n",
       "availability_30                                     0\n",
       "availability_90                                     0\n",
       "availability_365                                    0\n",
       "number_of_reviews                                   0\n",
       "first_review                                     3978\n",
       "last_review                                      3978\n",
       "review_scores_rating                             3978\n",
       "review_scores_accuracy                           3979\n",
       "review_scores_cleanliness                        3979\n",
       "review_scores_checkin                            3979\n",
       "review_scores_communication                      3979\n",
       "review_scores_location                           3980\n",
       "review_scores_value                              3981\n",
       "license                                         13536\n",
       "instant_bookable                                    0\n",
       "calculated_host_listings_count                      0\n",
       "calculated_host_listings_count_entire_homes         0\n",
       "calculated_host_listings_count_private_rooms        0\n",
       "calculated_host_listings_count_shared_rooms         0\n",
       "dtype: int64"
      ]
     },
     "execution_count": 25,
     "metadata": {},
     "output_type": "execute_result"
    }
   ],
   "source": [
    "#Identificar valores nulos por columna \n",
    "valores_nulos = data.isnull().sum()\n",
    "valores_nulos"
   ]
  },
  {
   "cell_type": "code",
   "execution_count": 26,
   "metadata": {},
   "outputs": [
    {
     "data": {
      "text/plain": [
       "np.int64(76781)"
      ]
     },
     "execution_count": 26,
     "metadata": {},
     "output_type": "execute_result"
    }
   ],
   "source": [
    "#Identificar valores nulos por dataframe \n",
    "valores_nulos = data.isnull().sum().sum()\n",
    "valores_nulos"
   ]
  },
  {
   "cell_type": "code",
   "execution_count": 27,
   "metadata": {},
   "outputs": [],
   "source": [
    "#Realizamos copia del df\n",
    "data2 = data.copy()"
   ]
  },
  {
   "cell_type": "markdown",
   "metadata": {},
   "source": [
    "**Métodos de sustitución para valores nulos**"
   ]
  },
  {
   "cell_type": "code",
   "execution_count": 28,
   "metadata": {},
   "outputs": [
    {
     "name": "stdout",
     "output_type": "stream",
     "text": [
      "<class 'pandas.core.frame.DataFrame'>\n",
      "RangeIndex: 23705 entries, 0 to 23704\n",
      "Data columns (total 50 columns):\n",
      " #   Column                                        Non-Null Count  Dtype  \n",
      "---  ------                                        --------------  -----  \n",
      " 0   id                                            23705 non-null  int64  \n",
      " 1   scrape_id                                     23705 non-null  int64  \n",
      " 2   last_scraped                                  23705 non-null  object \n",
      " 3   name                                          23705 non-null  object \n",
      " 4   host_id                                       23705 non-null  int64  \n",
      " 5   host_name                                     23705 non-null  object \n",
      " 6   host_since                                    23705 non-null  object \n",
      " 7   host_response_time                            19851 non-null  object \n",
      " 8   host_response_rate                            19851 non-null  object \n",
      " 9   host_acceptance_rate                          21792 non-null  object \n",
      " 10  host_is_superhost                             22874 non-null  object \n",
      " 11  host_listings_count                           23705 non-null  int64  \n",
      " 12  host_total_listings_count                     23705 non-null  int64  \n",
      " 13  host_identity_verified                        23705 non-null  object \n",
      " 14  neighbourhood                                 12328 non-null  object \n",
      " 15  latitude                                      23705 non-null  float64\n",
      " 16  longitude                                     23705 non-null  float64\n",
      " 17  property_type                                 23705 non-null  object \n",
      " 18  room_type                                     23705 non-null  object \n",
      " 19  accommodates                                  23705 non-null  int64  \n",
      " 20  bathrooms                                     22021 non-null  float64\n",
      " 21  bedrooms                                      23381 non-null  float64\n",
      " 22  beds                                          21975 non-null  float64\n",
      " 23  amenities                                     23705 non-null  object \n",
      " 24  price                                         22028 non-null  object \n",
      " 25  minimum_nights                                23705 non-null  int64  \n",
      " 26  maximum_nights                                23705 non-null  int64  \n",
      " 27  minimum_nights_avg_ntm                        23705 non-null  float64\n",
      " 28  maximum_nights_avg_ntm                        23705 non-null  float64\n",
      " 29  calendar_last_scraped                         23705 non-null  object \n",
      " 30  has_availability                              23515 non-null  object \n",
      " 31  availability_30                               23705 non-null  int64  \n",
      " 32  availability_90                               23705 non-null  int64  \n",
      " 33  availability_365                              23705 non-null  int64  \n",
      " 34  number_of_reviews                             23705 non-null  int64  \n",
      " 35  first_review                                  19727 non-null  object \n",
      " 36  last_review                                   19727 non-null  object \n",
      " 37  review_scores_rating                          19727 non-null  float64\n",
      " 38  review_scores_accuracy                        19726 non-null  float64\n",
      " 39  review_scores_cleanliness                     19726 non-null  float64\n",
      " 40  review_scores_checkin                         19726 non-null  float64\n",
      " 41  review_scores_communication                   19726 non-null  float64\n",
      " 42  review_scores_location                        19725 non-null  float64\n",
      " 43  review_scores_value                           19724 non-null  float64\n",
      " 44  license                                       10169 non-null  object \n",
      " 45  instant_bookable                              23705 non-null  object \n",
      " 46  calculated_host_listings_count                23705 non-null  int64  \n",
      " 47  calculated_host_listings_count_entire_homes   23705 non-null  int64  \n",
      " 48  calculated_host_listings_count_private_rooms  23705 non-null  int64  \n",
      " 49  calculated_host_listings_count_shared_rooms   23705 non-null  int64  \n",
      "dtypes: float64(14), int64(16), object(20)\n",
      "memory usage: 9.0+ MB\n"
     ]
    }
   ],
   "source": [
    "data.info()"
   ]
  },
  {
   "cell_type": "markdown",
   "metadata": {},
   "source": [
    "Sustituimos valores nulos con un string en concreto"
   ]
  },
  {
   "cell_type": "code",
   "execution_count": 40,
   "metadata": {},
   "outputs": [],
   "source": [
    "# Rellenar valores nulos en 'license' con \"Unknown\"\n",
    "data2[\"license\"] = data2[\"license\"].fillna(\"Unknown\")\n"
   ]
  },
  {
   "cell_type": "code",
   "execution_count": 29,
   "metadata": {},
   "outputs": [],
   "source": [
    "data2[\"host_response_time\"] = data2[\"host_response_time\"].fillna(\"within a few hours\")"
   ]
  },
  {
   "cell_type": "code",
   "execution_count": 30,
   "metadata": {},
   "outputs": [],
   "source": [
    "data2[\"host_is_superhost\"] = data2[\"host_is_superhost\"].fillna(\"f\")"
   ]
  },
  {
   "cell_type": "code",
   "execution_count": 31,
   "metadata": {},
   "outputs": [],
   "source": [
    "data2[\"neighbourhood\"] = data2[\"neighbourhood\"].fillna(\"unknown\")"
   ]
  },
  {
   "cell_type": "code",
   "execution_count": 32,
   "metadata": {},
   "outputs": [],
   "source": [
    "data2[\"has_availability\"] = data2[\"has_availability\"].fillna(\"t\")"
   ]
  },
  {
   "cell_type": "code",
   "execution_count": 34,
   "metadata": {},
   "outputs": [],
   "source": [
    "# Rellenar los valores nulos con la fecha más reciente del scraping\n",
    "recent_date = data2[\"last_scraped\"].max()\n",
    "data2[\"first_review\"] = data2[\"first_review\"].fillna(recent_date)"
   ]
  },
  {
   "cell_type": "code",
   "execution_count": 38,
   "metadata": {},
   "outputs": [],
   "source": [
    "data2[\"last_review\"] = data2[\"last_review\"].fillna(recent_date)"
   ]
  },
  {
   "cell_type": "markdown",
   "metadata": {},
   "source": [
    "Sustituimos valores nulos por el promedio"
   ]
  },
  {
   "cell_type": "code",
   "execution_count": 50,
   "metadata": {},
   "outputs": [],
   "source": [
    "# Rellenar con el promedio de la columna\n",
    "data2[\"beds\"] = data2[\"beds\"].fillna(data2[\"beds\"].mean())"
   ]
  },
  {
   "cell_type": "code",
   "execution_count": 46,
   "metadata": {},
   "outputs": [],
   "source": [
    "data2[\"bathrooms\"] = data2[\"bathrooms\"].fillna(data2[\"bathrooms\"].mean())"
   ]
  },
  {
   "cell_type": "code",
   "execution_count": 48,
   "metadata": {},
   "outputs": [],
   "source": [
    "data2[\"bedrooms\"] = data2[\"bedrooms\"].fillna(data2[\"bedrooms\"].mean())"
   ]
  },
  {
   "cell_type": "markdown",
   "metadata": {},
   "source": [
    "Sustituimos valores nulos por la media"
   ]
  },
  {
   "cell_type": "code",
   "execution_count": 53,
   "metadata": {},
   "outputs": [
    {
     "name": "stderr",
     "output_type": "stream",
     "text": [
      "<>:1: SyntaxWarning: invalid escape sequence '\\$'\n",
      "<>:1: SyntaxWarning: invalid escape sequence '\\$'\n",
      "C:\\Users\\jocel\\AppData\\Local\\Temp\\ipykernel_23808\\347928009.py:1: SyntaxWarning: invalid escape sequence '\\$'\n",
      "  data2[\"price\"] = data2[\"price\"].replace({'\\$': '', ',': ''}, regex=True)  # Eliminar símbolos de dólar y comas\n"
     ]
    }
   ],
   "source": [
    "data2[\"price\"] = data2[\"price\"].replace({'\\$': '', ',': ''}, regex=True)  # Eliminar símbolos de dólar y comas\n",
    "data2[\"price\"] = data2[\"price\"].astype(float)  # Convertir la columna a tipo float\n",
    "\n",
    "data2[\"price\"] = data2[\"price\"].fillna(data2[\"price\"].median())"
   ]
  },
  {
   "cell_type": "code",
   "execution_count": 56,
   "metadata": {},
   "outputs": [],
   "source": [
    "data2[\"host_response_rate\"] = data2[\"host_response_rate\"].replace({'%': ''}, regex=True).astype(float) / 100\n",
    "data2[\"host_response_rate\"] = data2[\"host_response_rate\"].fillna(data2[\"host_response_rate\"].median())"
   ]
  },
  {
   "cell_type": "code",
   "execution_count": 58,
   "metadata": {},
   "outputs": [],
   "source": [
    "data2[\"host_acceptance_rate\"] = data2[\"host_acceptance_rate\"].replace({'%': ''}, regex=True).astype(float) / 100\n",
    "data2[\"host_acceptance_rate\"] = data2[\"host_acceptance_rate\"].fillna(data2[\"host_acceptance_rate\"].median())"
   ]
  },
  {
   "cell_type": "markdown",
   "metadata": {},
   "source": [
    "Sustituimos valores nulos por un valor numerico en concreto"
   ]
  },
  {
   "cell_type": "code",
   "execution_count": 60,
   "metadata": {},
   "outputs": [],
   "source": [
    "data2[\"review_scores_rating\"] = data2[\"review_scores_rating\"].fillna(5.0)"
   ]
  },
  {
   "cell_type": "code",
   "execution_count": 61,
   "metadata": {},
   "outputs": [],
   "source": [
    "data2[\"review_scores_cleanliness\"] = data2[\"review_scores_cleanliness\"].fillna(5.0)"
   ]
  },
  {
   "cell_type": "markdown",
   "metadata": {},
   "source": [
    "Foward Fill"
   ]
  },
  {
   "cell_type": "code",
   "execution_count": 64,
   "metadata": {},
   "outputs": [
    {
     "name": "stderr",
     "output_type": "stream",
     "text": [
      "C:\\Users\\jocel\\AppData\\Local\\Temp\\ipykernel_23808\\380793546.py:1: FutureWarning: Series.fillna with 'method' is deprecated and will raise in a future version. Use obj.ffill() or obj.bfill() instead.\n",
      "  data2[\"review_scores_checkin\"] = data2[\"review_scores_checkin\"].fillna(method=\"ffill\")\n"
     ]
    }
   ],
   "source": [
    "data2[\"review_scores_checkin\"] = data2[\"review_scores_checkin\"].fillna(method=\"ffill\")\n"
   ]
  },
  {
   "cell_type": "code",
   "execution_count": 65,
   "metadata": {},
   "outputs": [
    {
     "name": "stderr",
     "output_type": "stream",
     "text": [
      "C:\\Users\\jocel\\AppData\\Local\\Temp\\ipykernel_23808\\1120674921.py:1: FutureWarning: Series.fillna with 'method' is deprecated and will raise in a future version. Use obj.ffill() or obj.bfill() instead.\n",
      "  data2[\"review_scores_communication\"] = data2[\"review_scores_communication\"].fillna(method=\"ffill\")\n"
     ]
    }
   ],
   "source": [
    "data2[\"review_scores_communication\"] = data2[\"review_scores_communication\"].fillna(method=\"ffill\")\n"
   ]
  },
  {
   "cell_type": "code",
   "execution_count": 67,
   "metadata": {},
   "outputs": [
    {
     "name": "stderr",
     "output_type": "stream",
     "text": [
      "C:\\Users\\jocel\\AppData\\Local\\Temp\\ipykernel_23808\\1487054375.py:1: FutureWarning: Series.fillna with 'method' is deprecated and will raise in a future version. Use obj.ffill() or obj.bfill() instead.\n",
      "  data2[\"review_scores_accuracy\"] = data2[\"review_scores_accuracy\"].fillna(method=\"ffill\")\n"
     ]
    }
   ],
   "source": [
    "data2[\"review_scores_accuracy\"] = data2[\"review_scores_accuracy\"].fillna(method=\"ffill\")\n"
   ]
  },
  {
   "cell_type": "code",
   "execution_count": 78,
   "metadata": {},
   "outputs": [
    {
     "name": "stderr",
     "output_type": "stream",
     "text": [
      "C:\\Users\\jocel\\AppData\\Local\\Temp\\ipykernel_23808\\2280691230.py:1: FutureWarning: Series.fillna with 'method' is deprecated and will raise in a future version. Use obj.ffill() or obj.bfill() instead.\n",
      "  data2[\"review_scores_location\"] = data2[\"review_scores_location\"].fillna(method=\"ffill\")\n"
     ]
    }
   ],
   "source": [
    "data2[\"review_scores_location\"] = data2[\"review_scores_location\"].fillna(method=\"ffill\")\n"
   ]
  },
  {
   "cell_type": "code",
   "execution_count": 79,
   "metadata": {},
   "outputs": [
    {
     "name": "stderr",
     "output_type": "stream",
     "text": [
      "C:\\Users\\jocel\\AppData\\Local\\Temp\\ipykernel_23808\\2203774106.py:1: FutureWarning: Series.fillna with 'method' is deprecated and will raise in a future version. Use obj.ffill() or obj.bfill() instead.\n",
      "  data2[\"review_scores_value\"] = data2[\"review_scores_value\"].fillna(method=\"ffill\")\n"
     ]
    }
   ],
   "source": [
    "data2[\"review_scores_value\"] = data2[\"review_scores_value\"].fillna(method=\"ffill\")\n"
   ]
  },
  {
   "cell_type": "code",
   "execution_count": 80,
   "metadata": {},
   "outputs": [
    {
     "data": {
      "text/plain": [
       "id                                              0\n",
       "scrape_id                                       0\n",
       "last_scraped                                    0\n",
       "name                                            0\n",
       "host_id                                         0\n",
       "host_name                                       0\n",
       "host_since                                      0\n",
       "host_response_time                              0\n",
       "host_response_rate                              0\n",
       "host_acceptance_rate                            0\n",
       "host_is_superhost                               0\n",
       "host_listings_count                             0\n",
       "host_total_listings_count                       0\n",
       "host_identity_verified                          0\n",
       "neighbourhood                                   0\n",
       "latitude                                        0\n",
       "longitude                                       0\n",
       "property_type                                   0\n",
       "room_type                                       0\n",
       "accommodates                                    0\n",
       "bathrooms                                       0\n",
       "bedrooms                                        0\n",
       "beds                                            0\n",
       "amenities                                       0\n",
       "price                                           0\n",
       "minimum_nights                                  0\n",
       "maximum_nights                                  0\n",
       "minimum_nights_avg_ntm                          0\n",
       "maximum_nights_avg_ntm                          0\n",
       "calendar_last_scraped                           0\n",
       "has_availability                                0\n",
       "availability_30                                 0\n",
       "availability_90                                 0\n",
       "availability_365                                0\n",
       "number_of_reviews                               0\n",
       "first_review                                    0\n",
       "last_review                                     0\n",
       "review_scores_rating                            0\n",
       "review_scores_accuracy                          0\n",
       "review_scores_cleanliness                       0\n",
       "review_scores_checkin                           0\n",
       "review_scores_communication                     0\n",
       "review_scores_location                          0\n",
       "review_scores_value                             0\n",
       "license                                         0\n",
       "instant_bookable                                0\n",
       "calculated_host_listings_count                  0\n",
       "calculated_host_listings_count_entire_homes     0\n",
       "calculated_host_listings_count_private_rooms    0\n",
       "calculated_host_listings_count_shared_rooms     0\n",
       "dtype: int64"
      ]
     },
     "execution_count": 80,
     "metadata": {},
     "output_type": "execute_result"
    }
   ],
   "source": [
    "#Identificar valores nulos por columna \n",
    "valores_nulos = data2.isnull().sum()\n",
    "valores_nulos"
   ]
  },
  {
   "cell_type": "code",
   "execution_count": 81,
   "metadata": {},
   "outputs": [
    {
     "data": {
      "text/plain": [
       "np.int64(0)"
      ]
     },
     "execution_count": 81,
     "metadata": {},
     "output_type": "execute_result"
    }
   ],
   "source": [
    "#Identificar valores nulos por dataframe \n",
    "valores_nulos = data2.isnull().sum().sum()\n",
    "valores_nulos"
   ]
  },
  {
   "cell_type": "code",
   "execution_count": 82,
   "metadata": {},
   "outputs": [],
   "source": [
    "#Convertir dataSet sin valores nulos a csv\n",
    "data2.to_csv(\"mila_50_sin_nulos.csv\")"
   ]
  }
 ],
 "metadata": {
  "kernelspec": {
   "display_name": "Python 3",
   "language": "python",
   "name": "python3"
  },
  "language_info": {
   "codemirror_mode": {
    "name": "ipython",
    "version": 3
   },
   "file_extension": ".py",
   "mimetype": "text/x-python",
   "name": "python",
   "nbconvert_exporter": "python",
   "pygments_lexer": "ipython3",
   "version": "3.12.8"
  }
 },
 "nbformat": 4,
 "nbformat_minor": 2
}
