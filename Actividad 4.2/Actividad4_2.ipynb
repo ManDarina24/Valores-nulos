{
 "cells": [
  {
   "cell_type": "code",
   "execution_count": 1,
   "metadata": {},
   "outputs": [],
   "source": [
    "import pandas as pd \n",
    "import numpy as np\n",
    "import matplotlib.pyplot as plt\n"
   ]
  },
  {
   "cell_type": "code",
   "execution_count": 2,
   "metadata": {},
   "outputs": [
    {
     "data": {
      "text/html": [
       "<div>\n",
       "<style scoped>\n",
       "    .dataframe tbody tr th:only-of-type {\n",
       "        vertical-align: middle;\n",
       "    }\n",
       "\n",
       "    .dataframe tbody tr th {\n",
       "        vertical-align: top;\n",
       "    }\n",
       "\n",
       "    .dataframe thead th {\n",
       "        text-align: right;\n",
       "    }\n",
       "</style>\n",
       "<table border=\"1\" class=\"dataframe\">\n",
       "  <thead>\n",
       "    <tr style=\"text-align: right;\">\n",
       "      <th></th>\n",
       "      <th>id</th>\n",
       "      <th>scrape_id</th>\n",
       "      <th>last_scraped</th>\n",
       "      <th>name</th>\n",
       "      <th>host_id</th>\n",
       "      <th>host_name</th>\n",
       "      <th>host_since</th>\n",
       "      <th>host_response_time</th>\n",
       "      <th>host_response_rate</th>\n",
       "      <th>host_acceptance_rate</th>\n",
       "      <th>...</th>\n",
       "      <th>review_scores_checkin</th>\n",
       "      <th>review_scores_communication</th>\n",
       "      <th>review_scores_location</th>\n",
       "      <th>review_scores_value</th>\n",
       "      <th>license</th>\n",
       "      <th>instant_bookable</th>\n",
       "      <th>calculated_host_listings_count</th>\n",
       "      <th>calculated_host_listings_count_entire_homes</th>\n",
       "      <th>calculated_host_listings_count_private_rooms</th>\n",
       "      <th>calculated_host_listings_count_shared_rooms</th>\n",
       "    </tr>\n",
       "  </thead>\n",
       "  <tbody>\n",
       "    <tr>\n",
       "      <th>0</th>\n",
       "      <td>35797</td>\n",
       "      <td>20240925021012</td>\n",
       "      <td>2024-09-25</td>\n",
       "      <td>Villa Dante</td>\n",
       "      <td>153786</td>\n",
       "      <td>Dici</td>\n",
       "      <td>2010-06-28</td>\n",
       "      <td>a few days or more</td>\n",
       "      <td>0%</td>\n",
       "      <td>NaN</td>\n",
       "      <td>...</td>\n",
       "      <td>NaN</td>\n",
       "      <td>NaN</td>\n",
       "      <td>NaN</td>\n",
       "      <td>NaN</td>\n",
       "      <td>NaN</td>\n",
       "      <td>f</td>\n",
       "      <td>1</td>\n",
       "      <td>1</td>\n",
       "      <td>0</td>\n",
       "      <td>0</td>\n",
       "    </tr>\n",
       "    <tr>\n",
       "      <th>1</th>\n",
       "      <td>44616</td>\n",
       "      <td>20240925021012</td>\n",
       "      <td>2024-09-26</td>\n",
       "      <td>Condesa Haus</td>\n",
       "      <td>196253</td>\n",
       "      <td>Fernando</td>\n",
       "      <td>2010-08-09</td>\n",
       "      <td>within an hour</td>\n",
       "      <td>100%</td>\n",
       "      <td>93%</td>\n",
       "      <td>...</td>\n",
       "      <td>4.87</td>\n",
       "      <td>4.78</td>\n",
       "      <td>4.98</td>\n",
       "      <td>4.48</td>\n",
       "      <td>NaN</td>\n",
       "      <td>f</td>\n",
       "      <td>8</td>\n",
       "      <td>4</td>\n",
       "      <td>1</td>\n",
       "      <td>0</td>\n",
       "    </tr>\n",
       "    <tr>\n",
       "      <th>2</th>\n",
       "      <td>67703</td>\n",
       "      <td>20240925021012</td>\n",
       "      <td>2024-09-26</td>\n",
       "      <td>2 bedroom apt. deco bldg, Condesa</td>\n",
       "      <td>334451</td>\n",
       "      <td>Nicholas</td>\n",
       "      <td>2011-01-04</td>\n",
       "      <td>within an hour</td>\n",
       "      <td>71%</td>\n",
       "      <td>57%</td>\n",
       "      <td>...</td>\n",
       "      <td>4.94</td>\n",
       "      <td>4.92</td>\n",
       "      <td>4.98</td>\n",
       "      <td>4.91</td>\n",
       "      <td>NaN</td>\n",
       "      <td>f</td>\n",
       "      <td>2</td>\n",
       "      <td>2</td>\n",
       "      <td>0</td>\n",
       "      <td>0</td>\n",
       "    </tr>\n",
       "    <tr>\n",
       "      <th>3</th>\n",
       "      <td>70644</td>\n",
       "      <td>20240925021012</td>\n",
       "      <td>2024-09-25</td>\n",
       "      <td>Beautiful light Studio Coyoacan- full equipped !</td>\n",
       "      <td>212109</td>\n",
       "      <td>Trisha</td>\n",
       "      <td>2010-08-24</td>\n",
       "      <td>within a few hours</td>\n",
       "      <td>100%</td>\n",
       "      <td>100%</td>\n",
       "      <td>...</td>\n",
       "      <td>4.96</td>\n",
       "      <td>4.98</td>\n",
       "      <td>4.96</td>\n",
       "      <td>4.92</td>\n",
       "      <td>NaN</td>\n",
       "      <td>f</td>\n",
       "      <td>3</td>\n",
       "      <td>2</td>\n",
       "      <td>1</td>\n",
       "      <td>0</td>\n",
       "    </tr>\n",
       "    <tr>\n",
       "      <th>4</th>\n",
       "      <td>107078</td>\n",
       "      <td>20240925021012</td>\n",
       "      <td>2024-09-25</td>\n",
       "      <td>NEW  DESIGNER LOFT</td>\n",
       "      <td>540705</td>\n",
       "      <td>Andrea</td>\n",
       "      <td>2011-04-27</td>\n",
       "      <td>within an hour</td>\n",
       "      <td>100%</td>\n",
       "      <td>100%</td>\n",
       "      <td>...</td>\n",
       "      <td>5.00</td>\n",
       "      <td>4.73</td>\n",
       "      <td>4.91</td>\n",
       "      <td>4.82</td>\n",
       "      <td>NaN</td>\n",
       "      <td>f</td>\n",
       "      <td>3</td>\n",
       "      <td>3</td>\n",
       "      <td>0</td>\n",
       "      <td>0</td>\n",
       "    </tr>\n",
       "  </tbody>\n",
       "</table>\n",
       "<p>5 rows × 50 columns</p>\n",
       "</div>"
      ],
      "text/plain": [
       "       id       scrape_id last_scraped  \\\n",
       "0   35797  20240925021012   2024-09-25   \n",
       "1   44616  20240925021012   2024-09-26   \n",
       "2   67703  20240925021012   2024-09-26   \n",
       "3   70644  20240925021012   2024-09-25   \n",
       "4  107078  20240925021012   2024-09-25   \n",
       "\n",
       "                                               name  host_id host_name  \\\n",
       "0                                       Villa Dante   153786      Dici   \n",
       "1                                      Condesa Haus   196253  Fernando   \n",
       "2                 2 bedroom apt. deco bldg, Condesa   334451  Nicholas   \n",
       "3  Beautiful light Studio Coyoacan- full equipped !   212109    Trisha   \n",
       "4                                NEW  DESIGNER LOFT   540705    Andrea   \n",
       "\n",
       "   host_since  host_response_time host_response_rate host_acceptance_rate  \\\n",
       "0  2010-06-28  a few days or more                 0%                  NaN   \n",
       "1  2010-08-09      within an hour               100%                  93%   \n",
       "2  2011-01-04      within an hour                71%                  57%   \n",
       "3  2010-08-24  within a few hours               100%                 100%   \n",
       "4  2011-04-27      within an hour               100%                 100%   \n",
       "\n",
       "   ... review_scores_checkin  review_scores_communication  \\\n",
       "0  ...                   NaN                          NaN   \n",
       "1  ...                  4.87                         4.78   \n",
       "2  ...                  4.94                         4.92   \n",
       "3  ...                  4.96                         4.98   \n",
       "4  ...                  5.00                         4.73   \n",
       "\n",
       "   review_scores_location review_scores_value license  instant_bookable  \\\n",
       "0                     NaN                 NaN     NaN                 f   \n",
       "1                    4.98                4.48     NaN                 f   \n",
       "2                    4.98                4.91     NaN                 f   \n",
       "3                    4.96                4.92     NaN                 f   \n",
       "4                    4.91                4.82     NaN                 f   \n",
       "\n",
       "   calculated_host_listings_count calculated_host_listings_count_entire_homes  \\\n",
       "0                               1                                           1   \n",
       "1                               8                                           4   \n",
       "2                               2                                           2   \n",
       "3                               3                                           2   \n",
       "4                               3                                           3   \n",
       "\n",
       "  calculated_host_listings_count_private_rooms  \\\n",
       "0                                            0   \n",
       "1                                            1   \n",
       "2                                            0   \n",
       "3                                            1   \n",
       "4                                            0   \n",
       "\n",
       "   calculated_host_listings_count_shared_rooms  \n",
       "0                                            0  \n",
       "1                                            0  \n",
       "2                                            0  \n",
       "3                                            0  \n",
       "4                                            0  \n",
       "\n",
       "[5 rows x 50 columns]"
      ]
     },
     "execution_count": 2,
     "metadata": {},
     "output_type": "execute_result"
    }
   ],
   "source": [
    "#Carga de un archivo .csv sin indice\n",
    "data = pd.read_csv('mexico_50_columnas.csv')\n",
    "data.head(5)"
   ]
  },
  {
   "cell_type": "code",
   "execution_count": 3,
   "metadata": {},
   "outputs": [
    {
     "data": {
      "text/plain": [
       "id                                                  0\n",
       "scrape_id                                           0\n",
       "last_scraped                                        0\n",
       "name                                                0\n",
       "host_id                                             0\n",
       "host_name                                           0\n",
       "host_since                                          0\n",
       "host_response_time                               3622\n",
       "host_response_rate                               3622\n",
       "host_acceptance_rate                             2869\n",
       "host_is_superhost                                1509\n",
       "host_listings_count                                 0\n",
       "host_total_listings_count                           0\n",
       "host_identity_verified                              0\n",
       "neighbourhood                                   10895\n",
       "latitude                                            0\n",
       "longitude                                           0\n",
       "property_type                                       0\n",
       "room_type                                           0\n",
       "accommodates                                        0\n",
       "bathrooms                                        2915\n",
       "bedrooms                                          866\n",
       "beds                                             2953\n",
       "amenities                                           0\n",
       "price                                            2927\n",
       "minimum_nights                                      0\n",
       "maximum_nights                                      0\n",
       "minimum_nights_avg_ntm                              0\n",
       "maximum_nights_avg_ntm                              0\n",
       "calendar_last_scraped                               0\n",
       "has_availability                                 1008\n",
       "availability_30                                     0\n",
       "availability_90                                     0\n",
       "availability_365                                    0\n",
       "number_of_reviews                                   0\n",
       "first_review                                     3656\n",
       "last_review                                      3656\n",
       "review_scores_rating                             3656\n",
       "review_scores_accuracy                           3657\n",
       "review_scores_cleanliness                        3657\n",
       "review_scores_checkin                            3657\n",
       "review_scores_communication                      3657\n",
       "review_scores_location                           3657\n",
       "review_scores_value                              3657\n",
       "license                                         26582\n",
       "instant_bookable                                    0\n",
       "calculated_host_listings_count                      0\n",
       "calculated_host_listings_count_entire_homes         0\n",
       "calculated_host_listings_count_private_rooms        0\n",
       "calculated_host_listings_count_shared_rooms         0\n",
       "dtype: int64"
      ]
     },
     "execution_count": 3,
     "metadata": {},
     "output_type": "execute_result"
    }
   ],
   "source": [
    "#Identificar valores nulos por columna \n",
    "valores_nulos = data.isnull().sum()\n",
    "valores_nulos"
   ]
  },
  {
   "cell_type": "code",
   "execution_count": 4,
   "metadata": {},
   "outputs": [
    {
     "data": {
      "text/plain": [
       "np.int64(92678)"
      ]
     },
     "execution_count": 4,
     "metadata": {},
     "output_type": "execute_result"
    }
   ],
   "source": [
    "#Identificar valores nulos por dataframe \n",
    "valores_nulos = data.isnull().sum().sum()\n",
    "valores_nulos"
   ]
  },
  {
   "cell_type": "code",
   "execution_count": 5,
   "metadata": {},
   "outputs": [],
   "source": [
    "#Realizamos copia del df\n",
    "data2 = data.copy()"
   ]
  },
  {
   "cell_type": "markdown",
   "metadata": {},
   "source": [
    "**Métodos de sustitución para valores nulos**"
   ]
  },
  {
   "cell_type": "code",
   "execution_count": 6,
   "metadata": {},
   "outputs": [
    {
     "name": "stdout",
     "output_type": "stream",
     "text": [
      "<class 'pandas.core.frame.DataFrame'>\n",
      "RangeIndex: 26582 entries, 0 to 26581\n",
      "Data columns (total 50 columns):\n",
      " #   Column                                        Non-Null Count  Dtype  \n",
      "---  ------                                        --------------  -----  \n",
      " 0   id                                            26582 non-null  int64  \n",
      " 1   scrape_id                                     26582 non-null  int64  \n",
      " 2   last_scraped                                  26582 non-null  object \n",
      " 3   name                                          26582 non-null  object \n",
      " 4   host_id                                       26582 non-null  int64  \n",
      " 5   host_name                                     26582 non-null  object \n",
      " 6   host_since                                    26582 non-null  object \n",
      " 7   host_response_time                            22960 non-null  object \n",
      " 8   host_response_rate                            22960 non-null  object \n",
      " 9   host_acceptance_rate                          23713 non-null  object \n",
      " 10  host_is_superhost                             25073 non-null  object \n",
      " 11  host_listings_count                           26582 non-null  int64  \n",
      " 12  host_total_listings_count                     26582 non-null  int64  \n",
      " 13  host_identity_verified                        26582 non-null  object \n",
      " 14  neighbourhood                                 15687 non-null  object \n",
      " 15  latitude                                      26582 non-null  float64\n",
      " 16  longitude                                     26582 non-null  float64\n",
      " 17  property_type                                 26582 non-null  object \n",
      " 18  room_type                                     26582 non-null  object \n",
      " 19  accommodates                                  26582 non-null  int64  \n",
      " 20  bathrooms                                     23667 non-null  float64\n",
      " 21  bedrooms                                      25716 non-null  float64\n",
      " 22  beds                                          23629 non-null  float64\n",
      " 23  amenities                                     26582 non-null  object \n",
      " 24  price                                         23655 non-null  object \n",
      " 25  minimum_nights                                26582 non-null  int64  \n",
      " 26  maximum_nights                                26582 non-null  int64  \n",
      " 27  minimum_nights_avg_ntm                        26582 non-null  float64\n",
      " 28  maximum_nights_avg_ntm                        26582 non-null  float64\n",
      " 29  calendar_last_scraped                         26582 non-null  object \n",
      " 30  has_availability                              25574 non-null  object \n",
      " 31  availability_30                               26582 non-null  int64  \n",
      " 32  availability_90                               26582 non-null  int64  \n",
      " 33  availability_365                              26582 non-null  int64  \n",
      " 34  number_of_reviews                             26582 non-null  int64  \n",
      " 35  first_review                                  22926 non-null  object \n",
      " 36  last_review                                   22926 non-null  object \n",
      " 37  review_scores_rating                          22926 non-null  float64\n",
      " 38  review_scores_accuracy                        22925 non-null  float64\n",
      " 39  review_scores_cleanliness                     22925 non-null  float64\n",
      " 40  review_scores_checkin                         22925 non-null  float64\n",
      " 41  review_scores_communication                   22925 non-null  float64\n",
      " 42  review_scores_location                        22925 non-null  float64\n",
      " 43  review_scores_value                           22925 non-null  float64\n",
      " 44  license                                       0 non-null      float64\n",
      " 45  instant_bookable                              26582 non-null  object \n",
      " 46  calculated_host_listings_count                26582 non-null  int64  \n",
      " 47  calculated_host_listings_count_entire_homes   26582 non-null  int64  \n",
      " 48  calculated_host_listings_count_private_rooms  26582 non-null  int64  \n",
      " 49  calculated_host_listings_count_shared_rooms   26582 non-null  int64  \n",
      "dtypes: float64(15), int64(16), object(19)\n",
      "memory usage: 10.1+ MB\n"
     ]
    }
   ],
   "source": [
    "data.info()"
   ]
  },
  {
   "cell_type": "markdown",
   "metadata": {},
   "source": [
    "Sustituimos valores nulos con un string en concreto"
   ]
  },
  {
   "cell_type": "code",
   "execution_count": 7,
   "metadata": {},
   "outputs": [],
   "source": [
    "data2[\"host_response_time\"] = data2[\"host_response_time\"].fillna(\"within a few hours\")"
   ]
  },
  {
   "cell_type": "code",
   "execution_count": 8,
   "metadata": {},
   "outputs": [],
   "source": [
    "data2[\"host_is_superhost\"] = data2[\"host_is_superhost\"].fillna(\"f\")"
   ]
  },
  {
   "cell_type": "code",
   "execution_count": 9,
   "metadata": {},
   "outputs": [],
   "source": [
    "data2[\"neighbourhood\"] = data2[\"neighbourhood\"].fillna(\"unknown\")"
   ]
  },
  {
   "cell_type": "code",
   "execution_count": 10,
   "metadata": {},
   "outputs": [],
   "source": [
    "data2[\"has_availability\"] = data2[\"has_availability\"].fillna(\"t\")"
   ]
  },
  {
   "cell_type": "code",
   "execution_count": 11,
   "metadata": {},
   "outputs": [],
   "source": [
    "# Rellenar los valores nulos con la fecha más reciente del scraping\n",
    "recent_date = data2[\"last_scraped\"].max()\n",
    "data2[\"first_review\"] = data2[\"first_review\"].fillna(recent_date)"
   ]
  },
  {
   "cell_type": "code",
   "execution_count": 12,
   "metadata": {},
   "outputs": [],
   "source": [
    "data2[\"last_review\"] = data2[\"last_review\"].fillna(recent_date)"
   ]
  },
  {
   "cell_type": "markdown",
   "metadata": {},
   "source": [
    "Sustituimos valores nulos por el promedio"
   ]
  },
  {
   "cell_type": "code",
   "execution_count": 14,
   "metadata": {},
   "outputs": [],
   "source": [
    "# Rellenar con el promedio de la columna\n",
    "data2[\"beds\"] = data2[\"beds\"].fillna(data2[\"beds\"].mean())"
   ]
  },
  {
   "cell_type": "code",
   "execution_count": 15,
   "metadata": {},
   "outputs": [],
   "source": [
    "data2[\"bathrooms\"] = data2[\"bathrooms\"].fillna(data2[\"bathrooms\"].mean())"
   ]
  },
  {
   "cell_type": "code",
   "execution_count": 16,
   "metadata": {},
   "outputs": [],
   "source": [
    "data2[\"bedrooms\"] = data2[\"bedrooms\"].fillna(data2[\"bedrooms\"].mean())"
   ]
  },
  {
   "cell_type": "markdown",
   "metadata": {},
   "source": [
    "Sustituimos valores nulos por la mediana"
   ]
  },
  {
   "cell_type": "code",
   "execution_count": 18,
   "metadata": {},
   "outputs": [
    {
     "name": "stderr",
     "output_type": "stream",
     "text": [
      "<>:1: SyntaxWarning: invalid escape sequence '\\$'\n",
      "<>:1: SyntaxWarning: invalid escape sequence '\\$'\n",
      "C:\\Users\\jocel\\AppData\\Local\\Temp\\ipykernel_14184\\347928009.py:1: SyntaxWarning: invalid escape sequence '\\$'\n",
      "  data2[\"price\"] = data2[\"price\"].replace({'\\$': '', ',': ''}, regex=True)  # Eliminar símbolos de dólar y comas\n"
     ]
    }
   ],
   "source": [
    "data2[\"price\"] = data2[\"price\"].replace({'\\$': '', ',': ''}, regex=True)  # Eliminar símbolos de dólar y comas\n",
    "data2[\"price\"] = data2[\"price\"].astype(float)  # Convertir la columna a tipo float\n",
    "\n",
    "data2[\"price\"] = data2[\"price\"].fillna(data2[\"price\"].median())"
   ]
  },
  {
   "cell_type": "code",
   "execution_count": 20,
   "metadata": {},
   "outputs": [],
   "source": [
    "data2[\"host_response_rate\"] = data2[\"host_response_rate\"].replace({'%': ''}, regex=True).astype(float) / 100\n",
    "data2[\"host_response_rate\"] = data2[\"host_response_rate\"].fillna(data2[\"host_response_rate\"].median())"
   ]
  },
  {
   "cell_type": "code",
   "execution_count": 21,
   "metadata": {},
   "outputs": [],
   "source": [
    "data2[\"host_acceptance_rate\"] = data2[\"host_acceptance_rate\"].replace({'%': ''}, regex=True).astype(float) / 100\n",
    "data2[\"host_acceptance_rate\"] = data2[\"host_acceptance_rate\"].fillna(data2[\"host_acceptance_rate\"].median())"
   ]
  },
  {
   "cell_type": "code",
   "execution_count": 22,
   "metadata": {},
   "outputs": [
    {
     "data": {
      "text/plain": [
       "id                                                  0\n",
       "scrape_id                                           0\n",
       "last_scraped                                        0\n",
       "name                                                0\n",
       "host_id                                             0\n",
       "host_name                                           0\n",
       "host_since                                          0\n",
       "host_response_time                                  0\n",
       "host_response_rate                                  0\n",
       "host_acceptance_rate                                0\n",
       "host_is_superhost                                   0\n",
       "host_listings_count                                 0\n",
       "host_total_listings_count                           0\n",
       "host_identity_verified                              0\n",
       "neighbourhood                                       0\n",
       "latitude                                            0\n",
       "longitude                                           0\n",
       "property_type                                       0\n",
       "room_type                                           0\n",
       "accommodates                                        0\n",
       "bathrooms                                           0\n",
       "bedrooms                                            0\n",
       "beds                                                0\n",
       "amenities                                           0\n",
       "price                                               0\n",
       "minimum_nights                                      0\n",
       "maximum_nights                                      0\n",
       "minimum_nights_avg_ntm                              0\n",
       "maximum_nights_avg_ntm                              0\n",
       "calendar_last_scraped                               0\n",
       "has_availability                                    0\n",
       "availability_30                                     0\n",
       "availability_90                                     0\n",
       "availability_365                                    0\n",
       "number_of_reviews                                   0\n",
       "first_review                                        0\n",
       "last_review                                         0\n",
       "review_scores_rating                             3656\n",
       "review_scores_accuracy                           3657\n",
       "review_scores_cleanliness                        3657\n",
       "review_scores_checkin                            3657\n",
       "review_scores_communication                      3657\n",
       "review_scores_location                           3657\n",
       "review_scores_value                              3657\n",
       "license                                         26582\n",
       "instant_bookable                                    0\n",
       "calculated_host_listings_count                      0\n",
       "calculated_host_listings_count_entire_homes         0\n",
       "calculated_host_listings_count_private_rooms        0\n",
       "calculated_host_listings_count_shared_rooms         0\n",
       "dtype: int64"
      ]
     },
     "execution_count": 22,
     "metadata": {},
     "output_type": "execute_result"
    }
   ],
   "source": [
    "valores_nulos = data2.isnull().sum()\n",
    "valores_nulos"
   ]
  },
  {
   "cell_type": "markdown",
   "metadata": {},
   "source": [
    "Sustituimos valores nulos por un valor numerico en concreto"
   ]
  },
  {
   "cell_type": "code",
   "execution_count": 23,
   "metadata": {},
   "outputs": [],
   "source": [
    "data2[\"review_scores_rating\"] = data2[\"review_scores_rating\"].fillna(5.0)"
   ]
  },
  {
   "cell_type": "code",
   "execution_count": 24,
   "metadata": {},
   "outputs": [],
   "source": [
    "data2[\"review_scores_cleanliness\"] = data2[\"review_scores_cleanliness\"].fillna(5.0)"
   ]
  },
  {
   "cell_type": "markdown",
   "metadata": {},
   "source": [
    "Foward Fill"
   ]
  },
  {
   "cell_type": "code",
   "execution_count": 41,
   "metadata": {},
   "outputs": [
    {
     "name": "stderr",
     "output_type": "stream",
     "text": [
      "C:\\Users\\jocel\\AppData\\Local\\Temp\\ipykernel_14184\\584258155.py:1: FutureWarning: Series.fillna with 'method' is deprecated and will raise in a future version. Use obj.ffill() or obj.bfill() instead.\n",
      "  data2[\"review_scores_checkin\"] = data2[\"review_scores_checkin\"].fillna(method=\"bfill\")\n"
     ]
    }
   ],
   "source": [
    "data2[\"review_scores_checkin\"] = data2[\"review_scores_checkin\"].fillna(method=\"bfill\")\n"
   ]
  },
  {
   "cell_type": "code",
   "execution_count": 42,
   "metadata": {},
   "outputs": [
    {
     "name": "stderr",
     "output_type": "stream",
     "text": [
      "C:\\Users\\jocel\\AppData\\Local\\Temp\\ipykernel_14184\\1253707375.py:1: FutureWarning: Series.fillna with 'method' is deprecated and will raise in a future version. Use obj.ffill() or obj.bfill() instead.\n",
      "  data2[\"review_scores_communication\"] = data2[\"review_scores_communication\"].fillna(method=\"bfill\")\n"
     ]
    }
   ],
   "source": [
    "data2[\"review_scores_communication\"] = data2[\"review_scores_communication\"].fillna(method=\"bfill\")\n"
   ]
  },
  {
   "cell_type": "code",
   "execution_count": 37,
   "metadata": {},
   "outputs": [
    {
     "name": "stderr",
     "output_type": "stream",
     "text": [
      "C:\\Users\\jocel\\AppData\\Local\\Temp\\ipykernel_14184\\1636651407.py:1: FutureWarning: Series.fillna with 'method' is deprecated and will raise in a future version. Use obj.ffill() or obj.bfill() instead.\n",
      "  data2[\"review_scores_accuracy\"] = data2[\"review_scores_accuracy\"].fillna(method=\"bfill\")\n"
     ]
    }
   ],
   "source": [
    "data2[\"review_scores_accuracy\"] = data2[\"review_scores_accuracy\"].fillna(method=\"ffill\")\n"
   ]
  },
  {
   "cell_type": "code",
   "execution_count": 38,
   "metadata": {},
   "outputs": [
    {
     "name": "stderr",
     "output_type": "stream",
     "text": [
      "C:\\Users\\jocel\\AppData\\Local\\Temp\\ipykernel_14184\\3295049107.py:1: FutureWarning: Series.fillna with 'method' is deprecated and will raise in a future version. Use obj.ffill() or obj.bfill() instead.\n",
      "  data2[\"review_scores_location\"] = data2[\"review_scores_location\"].fillna(method=\"bfill\")\n"
     ]
    }
   ],
   "source": [
    "data2[\"review_scores_location\"] = data2[\"review_scores_location\"].fillna(method=\"ffill\")\n"
   ]
  },
  {
   "cell_type": "code",
   "execution_count": 39,
   "metadata": {},
   "outputs": [
    {
     "name": "stderr",
     "output_type": "stream",
     "text": [
      "C:\\Users\\jocel\\AppData\\Local\\Temp\\ipykernel_14184\\3710121147.py:1: FutureWarning: Series.fillna with 'method' is deprecated and will raise in a future version. Use obj.ffill() or obj.bfill() instead.\n",
      "  data2[\"review_scores_value\"] = data2[\"review_scores_value\"].fillna(method=\"bfill\")\n"
     ]
    }
   ],
   "source": [
    "data2[\"review_scores_value\"] = data2[\"review_scores_value\"].fillna(method=\"ffill\")\n"
   ]
  },
  {
   "cell_type": "code",
   "execution_count": 44,
   "metadata": {},
   "outputs": [],
   "source": [
    "# Rellenar valores nulos en 'license' con \"Unknown\"\n",
    "data2[\"license\"] = data2[\"license\"].fillna(\"Unknown\")"
   ]
  },
  {
   "cell_type": "code",
   "execution_count": 45,
   "metadata": {},
   "outputs": [
    {
     "data": {
      "text/plain": [
       "id                                              0\n",
       "scrape_id                                       0\n",
       "last_scraped                                    0\n",
       "name                                            0\n",
       "host_id                                         0\n",
       "host_name                                       0\n",
       "host_since                                      0\n",
       "host_response_time                              0\n",
       "host_response_rate                              0\n",
       "host_acceptance_rate                            0\n",
       "host_is_superhost                               0\n",
       "host_listings_count                             0\n",
       "host_total_listings_count                       0\n",
       "host_identity_verified                          0\n",
       "neighbourhood                                   0\n",
       "latitude                                        0\n",
       "longitude                                       0\n",
       "property_type                                   0\n",
       "room_type                                       0\n",
       "accommodates                                    0\n",
       "bathrooms                                       0\n",
       "bedrooms                                        0\n",
       "beds                                            0\n",
       "amenities                                       0\n",
       "price                                           0\n",
       "minimum_nights                                  0\n",
       "maximum_nights                                  0\n",
       "minimum_nights_avg_ntm                          0\n",
       "maximum_nights_avg_ntm                          0\n",
       "calendar_last_scraped                           0\n",
       "has_availability                                0\n",
       "availability_30                                 0\n",
       "availability_90                                 0\n",
       "availability_365                                0\n",
       "number_of_reviews                               0\n",
       "first_review                                    0\n",
       "last_review                                     0\n",
       "review_scores_rating                            0\n",
       "review_scores_accuracy                          0\n",
       "review_scores_cleanliness                       0\n",
       "review_scores_checkin                           0\n",
       "review_scores_communication                     0\n",
       "review_scores_location                          0\n",
       "review_scores_value                             0\n",
       "license                                         0\n",
       "instant_bookable                                0\n",
       "calculated_host_listings_count                  0\n",
       "calculated_host_listings_count_entire_homes     0\n",
       "calculated_host_listings_count_private_rooms    0\n",
       "calculated_host_listings_count_shared_rooms     0\n",
       "dtype: int64"
      ]
     },
     "execution_count": 45,
     "metadata": {},
     "output_type": "execute_result"
    }
   ],
   "source": [
    "#Identificar valores nulos por columna \n",
    "valores_nulos = data2.isnull().sum()\n",
    "valores_nulos"
   ]
  },
  {
   "cell_type": "code",
   "execution_count": 46,
   "metadata": {},
   "outputs": [
    {
     "data": {
      "text/plain": [
       "np.int64(0)"
      ]
     },
     "execution_count": 46,
     "metadata": {},
     "output_type": "execute_result"
    }
   ],
   "source": [
    "#Identificar valores nulos por dataframe \n",
    "valores_nulos = data2.isnull().sum().sum()\n",
    "valores_nulos"
   ]
  },
  {
   "cell_type": "code",
   "execution_count": 47,
   "metadata": {},
   "outputs": [],
   "source": [
    "#Convertir dataSet sin valores nulos a csv\n",
    "data2.to_csv(\"cdmx_sin_nulos.csv\")"
   ]
  }
 ],
 "metadata": {
  "kernelspec": {
   "display_name": "Python 3",
   "language": "python",
   "name": "python3"
  },
  "language_info": {
   "codemirror_mode": {
    "name": "ipython",
    "version": 3
   },
   "file_extension": ".py",
   "mimetype": "text/x-python",
   "name": "python",
   "nbconvert_exporter": "python",
   "pygments_lexer": "ipython3",
   "version": "3.12.8"
  }
 },
 "nbformat": 4,
 "nbformat_minor": 2
}
